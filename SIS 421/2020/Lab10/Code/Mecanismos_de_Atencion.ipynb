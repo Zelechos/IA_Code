{
  "nbformat": 4,
  "nbformat_minor": 0,
  "metadata": {
    "colab": {
      "name": "Mecanismos de Atencion.ipynb",
      "provenance": [],
      "collapsed_sections": [],
      "authorship_tag": "ABX9TyM4gT22IYJilOEuhyPnH3qi",
      "include_colab_link": true
    },
    "kernelspec": {
      "name": "python3",
      "display_name": "Python 3"
    },
    "language_info": {
      "name": "python"
    },
    "accelerator": "GPU"
  },
  "cells": [
    {
      "cell_type": "markdown",
      "metadata": {
        "id": "view-in-github",
        "colab_type": "text"
      },
      "source": [
        "<a href=\"https://colab.research.google.com/github/Zelechos/IA_Code/blob/master/Lab10/Mecanismos_de_Atencion.ipynb\" target=\"_parent\"><img src=\"https://colab.research.google.com/assets/colab-badge.svg\" alt=\"Open In Colab\"/></a>"
      ]
    },
    {
      "cell_type": "markdown",
      "metadata": {
        "id": "cByAQ2mV7F7S"
      },
      "source": [
        ""
      ]
    },
    {
      "cell_type": "markdown",
      "metadata": {
        "id": "diagnostic-gibraltar"
      },
      "source": [
        "# Transformers - Mecanismos de Atención"
      ]
    },
    {
      "cell_type": "markdown",
      "metadata": {
        "id": "decreased-providence"
      },
      "source": [
        "### *Hard attention*"
      ]
    },
    {
      "cell_type": "markdown",
      "metadata": {
        "id": "ol5nueq27bJQ"
      },
      "source": [
        "#### Crearemos un conjunto de vectores y nos tiene que dar como resultado otro conjunto de vectores en este caso los outputs seran identicos a los inputs y estos prestaran atencion a sus inputs\n"
      ]
    },
    {
      "cell_type": "code",
      "metadata": {
        "ExecuteTime": {
          "end_time": "2021-03-24T08:12:14.858427Z",
          "start_time": "2021-03-24T08:12:14.420511Z"
        },
        "id": "allied-laundry"
      },
      "source": [
        "import numpy as np\n",
        "import torch\n",
        "import matplotlib.pyplot as plt\n",
        "import numpy as np"
      ],
      "execution_count": 2,
      "outputs": []
    },
    {
      "cell_type": "code",
      "metadata": {
        "colab": {
          "base_uri": "https://localhost:8080/"
        },
        "id": "J5Dgimho8dj1",
        "outputId": "cf380b86-7b0b-40c7-8059-fe18f7c0fd6a"
      },
      "source": [
        "# Creamos nuestro tensor que nos servira como input\n",
        "X = torch.tensor([[3, 0],[0, 3], [-1, -1]])\n",
        "X"
      ],
      "execution_count": 3,
      "outputs": [
        {
          "output_type": "execute_result",
          "data": {
            "text/plain": [
              "tensor([[ 3,  0],\n",
              "        [ 0,  3],\n",
              "        [-1, -1]])"
            ]
          },
          "metadata": {
            "tags": []
          },
          "execution_count": 3
        }
      ]
    },
    {
      "cell_type": "code",
      "metadata": {
        "colab": {
          "base_uri": "https://localhost:8080/",
          "height": 265
        },
        "id": "FKEVv0NG8diF",
        "outputId": "744ae9e6-c160-4b89-ede4-68d97d092544"
      },
      "source": [
        "# Ploteamos nuestro tensor\n",
        "def plot_vectors(X, y=None):\n",
        "    ax = plt.axes()\n",
        "    plt.grid()\n",
        "    for x in X:\n",
        "        ax.arrow(0, 0, x[0], x[1], head_width=0.2, head_length=0.2, color=\"green\")\n",
        "    if y is not None:\n",
        "        for _y in y:\n",
        "            if _y.sum() != 0:\n",
        "                ax.arrow(0, 0, _y[0], _y[1], head_width=0.1, head_length=0.1, color='red')\n",
        "    plt.xlim(-2,3.5)\n",
        "    plt.ylim(-2,3.5)\n",
        "    plt.show()\n",
        "\n",
        "plot_vectors(X)"
      ],
      "execution_count": 4,
      "outputs": [
        {
          "output_type": "display_data",
          "data": {
            "image/png": "[encoded data removed]",
            "text/plain": [
              "<Figure size 432x288 with 1 Axes>"
            ]
          },
          "metadata": {
            "tags": [],
            "needs_background": "light"
          }
        }
      ]
    },
    {
      "cell_type": "code",
      "metadata": {
        "colab": {
          "base_uri": "https://localhost:8080/"
        },
        "id": "PLtc1jZr-Jh0",
        "outputId": "a6f323b5-e3fb-4323-97b0-92395c0b3e86"
      },
      "source": [
        "# hard attention (a es one hot)\n",
        "# Creamos nuestro vector atencion al primer vector \n",
        "Vector_atencion = torch.tensor([1, 0, 0])\n",
        "Vector_atencion"
      ],
      "execution_count": 5,
      "outputs": [
        {
          "output_type": "execute_result",
          "data": {
            "text/plain": [
              "tensor([1, 0, 0])"
            ]
          },
          "metadata": {
            "tags": []
          },
          "execution_count": 5
        }
      ]
    },
    {
      "cell_type": "markdown",
      "metadata": {
        "id": "premier-graphics"
      },
      "source": [
        "Para aplicar nuestro mecanismo de atención, simplemente multiplicamos nuestro conjunto de vectores por el vector de atención."
      ]
    },
    {
      "cell_type": "code",
      "metadata": {
        "colab": {
          "base_uri": "https://localhost:8080/"
        },
        "id": "KGVFW8hS-sfn",
        "outputId": "0ea6d000-ae33-4f45-b6f8-ed93751177b7"
      },
      "source": [
        "# todos los vectores en la salida son 0, excepto al que hemos prestado atención\n",
        "#Aplicamos nuestro mecanismo de atencion\n",
        "y = Vector_atencion.unsqueeze(1) * X\n",
        "y"
      ],
      "execution_count": 6,
      "outputs": [
        {
          "output_type": "execute_result",
          "data": {
            "text/plain": [
              "tensor([[3, 0],\n",
              "        [0, 0],\n",
              "        [0, 0]])"
            ]
          },
          "metadata": {
            "tags": []
          },
          "execution_count": 6
        }
      ]
    },
    {
      "cell_type": "markdown",
      "metadata": {
        "id": "lyUjjbPM_IaD"
      },
      "source": [
        "#### Como podemos ver se marca de rojo al vector que le hemos prestado atencion"
      ]
    },
    {
      "cell_type": "code",
      "metadata": {
        "ExecuteTime": {
          "end_time": "2021-03-24T08:14:42.621293Z",
          "start_time": "2021-03-24T08:14:42.475282Z"
        },
        "id": "advisory-jerusalem",
        "colab": {
          "base_uri": "https://localhost:8080/",
          "height": 265
        },
        "outputId": "e9d5e5c3-72fc-469d-e430-bc645f53764a"
      },
      "source": [
        "plot_vectors(X, y)"
      ],
      "execution_count": 7,
      "outputs": [
        {
          "output_type": "display_data",
          "data": {
            "image/png": "[encoded data removed]",
            "text/plain": [
              "<Figure size 432x288 with 1 Axes>"
            ]
          },
          "metadata": {
            "tags": [],
            "needs_background": "light"
          }
        }
      ]
    },
    {
      "cell_type": "markdown",
      "metadata": {
        "id": "enhanced-winner"
      },
      "source": [
        "Podemos aplicar este mecanismo en una sola operación a todos los vectores generando una matriz de atención. En el caso de *hard attention*, esta matriz es la identidad."
      ]
    },
    {
      "cell_type": "code",
      "metadata": {
        "colab": {
          "base_uri": "https://localhost:8080/"
        },
        "id": "dN7yHj3v_QQJ",
        "outputId": "4ff0c987-f0f3-4d43-bc98-6eed1cc656ef"
      },
      "source": [
        "# Creamos nuestro matriz de Atencion  \n",
        "Matriz_Atencion = torch.eye(3)\n",
        "print(Matriz_Atencion)\n",
        "\n",
        "# Creamos una matriz de inputs\n",
        "Matriz_Inputs = torch.tensor([[3, 0],[0,3], [-1.5, -1.5]])\n",
        "print(Matriz_Inputs)"
      ],
      "execution_count": 8,
      "outputs": [
        {
          "output_type": "stream",
          "text": [
            "tensor([[1., 0., 0.],\n",
            "        [0., 1., 0.],\n",
            "        [0., 0., 1.]])\n",
            "tensor([[ 3.0000,  0.0000],\n",
            "        [ 0.0000,  3.0000],\n",
            "        [-1.5000, -1.5000]])\n"
          ],
          "name": "stdout"
        }
      ]
    },
    {
      "cell_type": "markdown",
      "metadata": {
        "id": "extended-begin"
      },
      "source": [
        "Multiplicando nuestra matriz de atención por la matriz que contiene todos los vectores de entrada, obtenemos los vectores de salida. En este caso, repetimos, obtendremos exactamente el mismo conjunto de vectores ya que cada vector a la salida atiene únicamente a un vector a la entrada, aquel que está en su misma posición. "
      ]
    },
    {
      "cell_type": "code",
      "metadata": {
        "colab": {
          "base_uri": "https://localhost:8080/"
        },
        "id": "l6nL3MPm_tkL",
        "outputId": "1a40c464-b445-4567-da40-c7d9a88a4395"
      },
      "source": [
        "Y = Matriz_Atencion @ Matriz_Inputs\n",
        "Y"
      ],
      "execution_count": 9,
      "outputs": [
        {
          "output_type": "execute_result",
          "data": {
            "text/plain": [
              "tensor([[ 3.0000,  0.0000],\n",
              "        [ 0.0000,  3.0000],\n",
              "        [-1.5000, -1.5000]])"
            ]
          },
          "metadata": {
            "tags": []
          },
          "execution_count": 9
        }
      ]
    },
    {
      "cell_type": "code",
      "metadata": {
        "id": "4rb41gYNAwL4"
      },
      "source": [
        "# Ploteamos nuestras matrices\n",
        "def plot(X, Y):\n",
        "    fig = plt.figure(figsize=(15,4))\n",
        "    for i, (x, y) in enumerate(zip(X, Y)):\n",
        "      ax = plt.subplot(1, 3, i + 1)\n",
        "      for x in X:\n",
        "          ax.arrow(0, 0, x[0], x[1], head_width=0.3, color=\"green\", head_length=0.3)\n",
        "      ax.arrow(0, 0, y[0], y[1], head_width=0.3, head_length=0.3, color='red')\n",
        "      ax.set_xlim(-2,4.5)\n",
        "      ax.set_ylim(-2,4.5)\n",
        "      ax.grid(True)\n",
        "      ax.set_title(f\"Atiende a {X[i].tolist()}\")\n",
        "    plt.tight_layout()\n",
        "    plt.show()"
      ],
      "execution_count": 10,
      "outputs": []
    },
    {
      "cell_type": "code",
      "metadata": {
        "colab": {
          "base_uri": "https://localhost:8080/",
          "height": 297
        },
        "id": "awzrpVkmAw7f",
        "outputId": "ab8732e8-3bc9-4a28-9288-18989d29e36c"
      },
      "source": [
        "plot(Matriz_Inputs,Y)"
      ],
      "execution_count": 11,
      "outputs": [
        {
          "output_type": "display_data",
          "data": {
            "image/png": "[encoded data removed]",
            "text/plain": [
              "<Figure size 1080x288 with 3 Axes>"
            ]
          },
          "metadata": {
            "tags": [],
            "needs_background": "light"
          }
        }
      ]
    },
    {
      "cell_type": "markdown",
      "metadata": {
        "id": "neural-basin"
      },
      "source": [
        "## *Soft attention*"
      ]
    },
    {
      "cell_type": "markdown",
      "metadata": {
        "id": "03pGkNthC9Uk"
      },
      "source": [
        "#### cada vector generado será una combinación de los *inputs*. En el siguiente ejemplo, cada vector generado presta un 70% de atención al vector en la entrada en su misma posición y un 15% al resto."
      ]
    },
    {
      "cell_type": "code",
      "metadata": {
        "colab": {
          "base_uri": "https://localhost:8080/"
        },
        "id": "BaoNLYhhDHn8",
        "outputId": "6cc07f13-2002-4385-ab84-95f7d419e636"
      },
      "source": [
        "# soft attention (cada fila suma 1)\n",
        "\n",
        "Matriz_Atencion = torch.ones((3, 3))*0.15\n",
        "Matriz_Atencion.fill_diagonal_(0.70)\n",
        "Matriz_Atencion"
      ],
      "execution_count": 12,
      "outputs": [
        {
          "output_type": "execute_result",
          "data": {
            "text/plain": [
              "tensor([[0.7000, 0.1500, 0.1500],\n",
              "        [0.1500, 0.7000, 0.1500],\n",
              "        [0.1500, 0.1500, 0.7000]])"
            ]
          },
          "metadata": {
            "tags": []
          },
          "execution_count": 12
        }
      ]
    },
    {
      "cell_type": "code",
      "metadata": {
        "colab": {
          "base_uri": "https://localhost:8080/"
        },
        "id": "xLYPhMghD-tR",
        "outputId": "1dfa224c-4431-45a6-ecc3-f28ab7dcf732"
      },
      "source": [
        "Y = Matriz_Atencion @ Matriz_Inputs\n",
        "Y"
      ],
      "execution_count": 13,
      "outputs": [
        {
          "output_type": "execute_result",
          "data": {
            "text/plain": [
              "tensor([[ 1.8750,  0.2250],\n",
              "        [ 0.2250,  1.8750],\n",
              "        [-0.6000, -0.6000]])"
            ]
          },
          "metadata": {
            "tags": []
          },
          "execution_count": 13
        }
      ]
    },
    {
      "cell_type": "code",
      "metadata": {
        "id": "0PoCRGu0ENah"
      },
      "source": [
        "def plot1(X, Y):\n",
        "    fig = plt.figure(figsize=(15,4))\n",
        "    for i, (x, y) in enumerate(zip(X, Y)):\n",
        "      ax = plt.subplot(1, 3, i + 1)\n",
        "      for x in X:\n",
        "          ax.arrow(0, 0, x[0], x[1], color=\"blue\", head_width=0.2, head_length=0.2)\n",
        "      Z = Matriz_Atencion[i].unsqueeze(1) * X\n",
        "      for z in Z:\n",
        "        ax.arrow(0, 0, z[0], z[1], head_width=0.2, head_length=0.2, color='green')\n",
        "      ax.arrow(0, 0, y[0], y[1], head_width=0.2, head_length=0.2, color='red')\n",
        "      ax.set_xlim(-2.5,4.5)\n",
        "      ax.set_ylim(-2.5,4.5)\n",
        "      ax.grid(True)\n",
        "      ax.set_title(f\"Atiende a {X[i].tolist()}\")\n",
        "    plt.tight_layout()\n",
        "    plt.show()"
      ],
      "execution_count": 38,
      "outputs": []
    },
    {
      "cell_type": "code",
      "metadata": {
        "colab": {
          "base_uri": "https://localhost:8080/",
          "height": 297
        },
        "id": "J1mpJ45WEOYy",
        "outputId": "66787f6c-cafc-4cde-81c8-5fd331d88554"
      },
      "source": [
        "plot1(Matriz_Inputs, Y)"
      ],
      "execution_count": 15,
      "outputs": [
        {
          "output_type": "display_data",
          "data": {
            "image/png": "[encoded data removed]",
            "text/plain": [
              "<Figure size 1080x288 with 3 Axes>"
            ]
          },
          "metadata": {
            "tags": [],
            "needs_background": "light"
          }
        }
      ]
    },
    {
      "cell_type": "code",
      "metadata": {
        "id": "F2qMwh8-EP8h",
        "outputId": "72bca4aa-650c-403e-c742-5de003e99fd3",
        "colab": {
          "base_uri": "https://localhost:8080/"
        }
      },
      "source": [
        "Matriz_Atencion = torch.ones((3, 3))*(1./3.)\n",
        "Matriz_Atencion"
      ],
      "execution_count": 16,
      "outputs": [
        {
          "output_type": "execute_result",
          "data": {
            "text/plain": [
              "tensor([[0.3333, 0.3333, 0.3333],\n",
              "        [0.3333, 0.3333, 0.3333],\n",
              "        [0.3333, 0.3333, 0.3333]])"
            ]
          },
          "metadata": {
            "tags": []
          },
          "execution_count": 16
        }
      ]
    },
    {
      "cell_type": "code",
      "metadata": {
        "id": "O5Fx41iXzYOq",
        "outputId": "74ded904-fb97-475e-e679-0b27c2a24ce1",
        "colab": {
          "base_uri": "https://localhost:8080/"
        }
      },
      "source": [
        "Y = Matriz_Atencion @ Matriz_Inputs\n",
        "Y"
      ],
      "execution_count": 17,
      "outputs": [
        {
          "output_type": "execute_result",
          "data": {
            "text/plain": [
              "tensor([[0.5000, 0.5000],\n",
              "        [0.5000, 0.5000],\n",
              "        [0.5000, 0.5000]])"
            ]
          },
          "metadata": {
            "tags": []
          },
          "execution_count": 17
        }
      ]
    },
    {
      "cell_type": "code",
      "metadata": {
        "id": "QTLmBwsSzYKx",
        "outputId": "3b5d2979-294b-4c8e-8736-b132112f029f",
        "colab": {
          "base_uri": "https://localhost:8080/",
          "height": 297
        }
      },
      "source": [
        "plot1(Matriz_Inputs, Y)"
      ],
      "execution_count": 18,
      "outputs": [
        {
          "output_type": "display_data",
          "data": {
            "image/png": "[encoded data removed]",
            "text/plain": [
              "<Figure size 1080x288 with 3 Axes>"
            ]
          },
          "metadata": {
            "tags": [],
            "needs_background": "light"
          }
        }
      ]
    },
    {
      "cell_type": "markdown",
      "metadata": {
        "id": "frequent-study"
      },
      "source": [
        "### *Self attention*"
      ]
    },
    {
      "cell_type": "markdown",
      "metadata": {
        "id": "precise-stockholm"
      },
      "source": [
        "En este último mecanismo de atención que veremos, cada vector es responsable de decidir por si mismo cuánta atención prestar al resto. Para ello calcularemos la similitud entre vectores. Cuanto más parecidos sean dos vectores, más atención habrá entre ellos y viceversa. En una tarea de traducción de texto, por ejemplo, a la hora de generar una palabra un mecanismo de *self attention* permitiría prestar más atención a aquellas palabras más relacionadas a la entrada, y no desperdiciar computación con aquellas que no tienen importancia. Esta similitud la calculamos multiplicando los vectores por si mismos y aplicando una función softmax."
      ]
    },
    {
      "cell_type": "code",
      "metadata": {
        "id": "Eah8CBzFzYKA",
        "outputId": "36d04a68-f05c-4a76-8072-e734e1027d0a",
        "colab": {
          "base_uri": "https://localhost:8080/"
        }
      },
      "source": [
        "# self attention -> similitud de cada vector con el resto\n",
        "\n",
        "# Verificando la similitud y aplicamos softmax\n",
        "Matriz_Input = torch.tensor([[1, 0],[0,1], [-0.5, -0.5]])\n",
        "Matriz_Atencion = torch.softmax(Matriz_Input @ Matriz_Input.T, 1)\n",
        "Matriz_Atencion"
      ],
      "execution_count": 40,
      "outputs": [
        {
          "output_type": "execute_result",
          "data": {
            "text/plain": [
              "tensor([[0.6285, 0.2312, 0.1402],\n",
              "        [0.2312, 0.6285, 0.1402],\n",
              "        [0.2119, 0.2119, 0.5761]])"
            ]
          },
          "metadata": {
            "tags": []
          },
          "execution_count": 40
        }
      ]
    },
    {
      "cell_type": "code",
      "metadata": {
        "id": "angav1W0zYCY",
        "outputId": "9eac203a-bdb2-4c67-9cf6-d2ce86170f9b",
        "colab": {
          "base_uri": "https://localhost:8080/"
        }
      },
      "source": [
        "Y = Matriz_Atencion @ Matriz_Input\n",
        "Y"
      ],
      "execution_count": 41,
      "outputs": [
        {
          "output_type": "execute_result",
          "data": {
            "text/plain": [
              "tensor([[ 0.5584,  0.1611],\n",
              "        [ 0.1611,  0.5584],\n",
              "        [-0.0761, -0.0761]])"
            ]
          },
          "metadata": {
            "tags": []
          },
          "execution_count": 41
        }
      ]
    },
    {
      "cell_type": "code",
      "metadata": {
        "id": "bu4Xa9hS6W3S",
        "outputId": "2d088daf-66a2-4bd5-f0ad-eaeb44b54bc3",
        "colab": {
          "base_uri": "https://localhost:8080/",
          "height": 297
        }
      },
      "source": [
        "plot1(Matriz_Input, Y)"
      ],
      "execution_count": 42,
      "outputs": [
        {
          "output_type": "display_data",
          "data": {
            "image/png": "[encoded data removed]",
            "text/plain": [
              "<Figure size 1080x288 with 3 Axes>"
            ]
          },
          "metadata": {
            "tags": [],
            "needs_background": "light"
          }
        }
      ]
    }
  ]
}