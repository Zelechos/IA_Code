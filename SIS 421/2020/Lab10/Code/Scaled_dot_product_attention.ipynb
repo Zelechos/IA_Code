{
  "nbformat": 4,
  "nbformat_minor": 0,
  "metadata": {
    "colab": {
      "name": "Scaled dot-product attention.ipynb",
      "provenance": [],
      "authorship_tag": "ABX9TyOEvaqXOwtRAZO8Zvo+TkxN",
      "include_colab_link": true
    },
    "kernelspec": {
      "name": "python3",
      "display_name": "Python 3"
    },
    "language_info": {
      "name": "python"
    },
    "accelerator": "GPU"
  },
  "cells": [
    {
      "cell_type": "markdown",
      "metadata": {
        "id": "view-in-github",
        "colab_type": "text"
      },
      "source": [
        "<a href=\"https://colab.research.google.com/github/Zelechos/IA_Code/blob/master/Lab10/Scaled_dot_product_attention.ipynb\" target=\"_parent\"><img src=\"https://colab.research.google.com/assets/colab-badge.svg\" alt=\"Open In Colab\"/></a>"
      ]
    },
    {
      "cell_type": "markdown",
      "metadata": {
        "id": "running-pastor"
      },
      "source": [
        "Vamos ahora a resolver el problema utilizando el mecanismo de atención descrito anteriormente. Lo primero que tenemos que tener en cuenta es que los mecanismos de atención funcionan con conjuntos de vectores (secuencia), por lo que tenemos que reinterpretar nuestras imágenes. Para ello, vamos a dividirlas en 16 *patches* de 7x7. De esta manera, nuestras imágenes ahora serán secuencias de *patches* con las que nuestro mecanismo de atención podrá trabajar."
      ]
    },
    {
      "cell_type": "code",
      "metadata": {
        "ExecuteTime": {
          "end_time": "2021-03-24T08:49:17.830379Z",
          "start_time": "2021-03-24T08:49:16.241378Z"
        },
        "id": "veterinary-bahrain"
      },
      "source": [
        "#import pytorch_lightning as pl\n",
        "import torch\n",
        "import matplotlib.pyplot as plt\n",
        "import torch.nn.functional as F\n",
        "from sklearn.datasets import fetch_openml\n",
        "import numpy as np\n",
        "from torch.utils.data import DataLoader"
      ],
      "execution_count": 2,
      "outputs": []
    },
    {
      "cell_type": "code",
      "metadata": {
        "ExecuteTime": {
          "end_time": "2021-03-24T08:49:17.846378Z",
          "start_time": "2021-03-24T08:49:17.831379Z"
        },
        "code_folding": [],
        "id": "facial-learning"
      },
      "source": [
        "class Dataset(torch.utils.data.Dataset):\n",
        "  def __init__(self, X, y):\n",
        "    self.X = X \n",
        "    self.y = y \n",
        "\n",
        "  def __len__(self):\n",
        "    return len(self.X)\n",
        "\n",
        "  def __getitem__(self, ix):\n",
        "    return torch.tensor(self.X[ix]).float(), torch.tensor(self.y[ix]).long()\n",
        "\n",
        "class MNISTDataModule(pl.LightningDataModule):\n",
        "\n",
        "    def __init__(self, batch_size: int = 64, Dataset = Dataset):\n",
        "        super().__init__()\n",
        "        self.batch_size = batch_size\n",
        "        self.Dataset = Dataset\n",
        "\n",
        "    def setup(self, stage=None):\n",
        "        mnist = fetch_openml('mnist_784', version=1)\n",
        "        X, y = mnist[\"data\"], mnist[\"target\"]\n",
        "        X_train, X_test, y_train, y_test = X[:60000] / 255., X[60000:] / 255., y[:60000].astype(np.int), y[60000:].astype(np.int)\n",
        "        self.train_ds = self.Dataset(X_train, y_train)\n",
        "        self.val_ds = self.Dataset(X_test, y_test)\n",
        "\n",
        "    def train_dataloader(self):\n",
        "        return DataLoader(self.train_ds, batch_size=self.batch_size, shuffle=True)\n",
        "\n",
        "    def val_dataloader(self):\n",
        "        return DataLoader(self.val_ds, batch_size=self.batch_size)"
      ],
      "execution_count": null,
      "outputs": []
    },
    {
      "cell_type": "code",
      "metadata": {
        "ExecuteTime": {
          "end_time": "2021-03-24T08:54:53.715129Z",
          "start_time": "2021-03-24T08:54:53.695110Z"
        },
        "id": "incorporate-occurrence"
      },
      "source": [
        "class AttnDataset(torch.utils.data.Dataset):\n",
        "  def __init__(self, X, y, patch_size=(7, 7)):\n",
        "    self.X = X \n",
        "    self.y = y \n",
        "    self.patch_size = patch_size\n",
        "\n",
        "  def __len__(self):\n",
        "    return len(self.X)\n",
        "\n",
        "  def __getitem__(self, ix):\n",
        "    image = torch.tensor(self.X[ix]).float().view(28, 28) # 28 x 28\n",
        "    h, w = self.patch_size\n",
        "    patches = image.unfold(0, h, h).unfold(1, w, w) # 4 x 4 x 7 x 7\n",
        "    patches = patches.contiguous().view(-1, h*w) # 16 x 49\n",
        "    return patches, torch.tensor(self.y[ix]).long()"
      ],
      "execution_count": null,
      "outputs": []
    },
    {
      "cell_type": "code",
      "metadata": {
        "ExecuteTime": {
          "end_time": "2021-03-24T08:55:12.621360Z",
          "start_time": "2021-03-24T08:54:53.818130Z"
        },
        "id": "regular-opinion",
        "outputId": "717297e2-56cc-425b-c5ea-392ec4fee1bc"
      },
      "source": [
        "attn_dm = MNISTDataModule(Dataset = AttnDataset)\n",
        "attn_dm.setup()\n",
        "imgs, labels = next(iter(attn_dm.train_dataloader()))\n",
        "imgs.shape, labels.shape"
      ],
      "execution_count": null,
      "outputs": [
        {
          "output_type": "execute_result",
          "data": {
            "text/plain": [
              "(torch.Size([64, 16, 49]), torch.Size([64]))"
            ]
          },
          "metadata": {
            "tags": []
          },
          "execution_count": 11
        }
      ]
    },
    {
      "cell_type": "code",
      "metadata": {
        "ExecuteTime": {
          "end_time": "2021-03-24T08:55:12.907387Z",
          "start_time": "2021-03-24T08:55:12.622359Z"
        },
        "id": "solved-chamber",
        "outputId": "287040c1-d789-4b09-d880-d4968791e017"
      },
      "source": [
        "import matplotlib\n",
        "import matplotlib.pyplot as plt\n",
        "import matplotlib.gridspec as gridspec\n",
        "\n",
        "fig = plt.figure(figsize=(5,5))\n",
        "for i in range(4):\n",
        "    for j in range(4):\n",
        "        ax = plt.subplot(4, 4, i*4 + j + 1)\n",
        "        ax.imshow(imgs[6,i*4 + j].view(7, 7), cmap=\"gray\")\n",
        "        ax.axis('off')\n",
        "plt.tight_layout()\n",
        "plt.show()"
      ],
      "execution_count": null,
      "outputs": [
        {
          "output_type": "display_data",
          "data": {
            "image/png": "[encoded data removed]",
            "text/plain": [
              "<Figure size 360x360 with 16 Axes>"
            ]
          },
          "metadata": {
            "tags": []
          }
        }
      ]
    },
    {
      "cell_type": "code",
      "metadata": {
        "ExecuteTime": {
          "end_time": "2021-03-24T08:55:12.923388Z",
          "start_time": "2021-03-24T08:55:12.909388Z"
        },
        "code_folding": [],
        "id": "respected-showcase"
      },
      "source": [
        "# basado en: https://github.com/karpathy/minGPT/blob/master/mingpt/model.py\n",
        "import math\n",
        "\n",
        "class ScaledDotSelfAttention(torch.nn.Module):\n",
        "\n",
        "    def __init__(self, n_embd):\n",
        "        super().__init__()\n",
        "        \n",
        "        # key, query, value projections\n",
        "        self.key = torch.nn.Linear(n_embd, n_embd)\n",
        "        self.query = torch.nn.Linear(n_embd, n_embd)\n",
        "        self.value = torch.nn.Linear(n_embd, n_embd)\n",
        "\n",
        "    def forward(self, x):\n",
        "        B, L, F = x.size()\n",
        "        \n",
        "        # calculate query, key, values \n",
        "        k = self.key(x) # (B, L, F)\n",
        "        q = self.query(x) # (B, L, F)\n",
        "        v = self.value(x) # (B, L, F)\n",
        "        \n",
        "        # attention (B, L, F) x (B, F, L) -> (B, L, L)\n",
        "        att = (q @ k.transpose(1, 2)) * (1.0 / math.sqrt(k.size(-1)))\n",
        "        att = torch.nn.functional.softmax(att, dim=-1)\n",
        "        y = att @ v # (B, L, L) x (B, L, F) -> (B, L, F)\n",
        "        \n",
        "        return y\n",
        "\n",
        "class Model(MLP):\n",
        "\n",
        "    def __init__(self, n_embd=7*7, seq_len=4*4):\n",
        "        super().__init__()\n",
        "        self.mlp = None\n",
        "\n",
        "        self.attn = ScaledDotSelfAttention(n_embd)\n",
        "        self.actn = torch.nn.ReLU(inplace=True)\n",
        "        self.fc = torch.nn.Linear(n_embd*seq_len, 10)\n",
        "\n",
        "    def forward(self, x):\n",
        "        x = self.attn(x)\n",
        "        #print(x.shape)\n",
        "        y = self.fc(self.actn(x.view(x.size(0), -1)))\n",
        "        #print(y.shape)\n",
        "        return y"
      ],
      "execution_count": null,
      "outputs": []
    },
    {
      "cell_type": "markdown",
      "metadata": {
        "id": "provincial-hudson"
      },
      "source": [
        "Nuestro modelo basado en atención tiene muchos menos parámetros. Esto es debido a que en el MLP todos las neuronas en la capa oculta están conectadas a todos los pixeles de la imagen. Ahora, sin embargo, reutilizamos conexiones a nivel de *patch*, de manera similar a cómo funcionan las redes convolucionales. "
      ]
    },
    {
      "cell_type": "code",
      "metadata": {
        "ExecuteTime": {
          "end_time": "2021-03-24T09:02:28.684868Z",
          "start_time": "2021-03-24T09:01:36.138918Z"
        },
        "id": "through-authorization",
        "colab": {
          "referenced_widgets": [
            "",
            "a01e1c5a25784bc589cf8977b8bacf7e"
          ]
        },
        "outputId": "3b27015d-70ee-4a75-96ae-7cfbf002fd0c"
      },
      "source": [
        "model = Model()\n",
        "trainer = pl.Trainer(max_epochs=5, gpus=1, logger=None)\n",
        "trainer.fit(model, attn_dm)"
      ],
      "execution_count": null,
      "outputs": [
        {
          "output_type": "stream",
          "text": [
            "GPU available: True, used: True\n",
            "TPU available: None, using: 0 TPU cores\n",
            "\n",
            "  | Name | Type                   | Params\n",
            "------------------------------------------------\n",
            "0 | attn | ScaledDotSelfAttention | 7.4 K \n",
            "1 | actn | ReLU                   | 0     \n",
            "2 | fc   | Linear                 | 7.9 K \n",
            "------------------------------------------------\n",
            "15.2 K    Trainable params\n",
            "0         Non-trainable params\n",
            "15.2 K    Total params\n",
            "0.061     Total estimated model params size (MB)\n"
          ],
          "name": "stderr"
        },
        {
          "output_type": "display_data",
          "data": {
            "application/vnd.jupyter.widget-view+json": {
              "model_id": "",
              "version_major": 2,
              "version_minor": 0
            },
            "text/plain": [
              "Validation sanity check: 0it [00:00, ?it/s]"
            ]
          },
          "metadata": {
            "tags": []
          }
        },
        {
          "output_type": "display_data",
          "data": {
            "application/vnd.jupyter.widget-view+json": {
              "model_id": "a01e1c5a25784bc589cf8977b8bacf7e",
              "version_major": 2,
              "version_minor": 0
            },
            "text/plain": [
              "Training: 0it [00:00, ?it/s]"
            ]
          },
          "metadata": {
            "tags": []
          }
        },
        {
          "output_type": "display_data",
          "data": {
            "application/vnd.jupyter.widget-view+json": {
              "model_id": "",
              "version_major": 2,
              "version_minor": 0
            },
            "text/plain": [
              "Validating: 0it [00:00, ?it/s]"
            ]
          },
          "metadata": {
            "tags": []
          }
        },
        {
          "output_type": "display_data",
          "data": {
            "application/vnd.jupyter.widget-view+json": {
              "model_id": "",
              "version_major": 2,
              "version_minor": 0
            },
            "text/plain": [
              "Validating: 0it [00:00, ?it/s]"
            ]
          },
          "metadata": {
            "tags": []
          }
        },
        {
          "output_type": "display_data",
          "data": {
            "application/vnd.jupyter.widget-view+json": {
              "model_id": "",
              "version_major": 2,
              "version_minor": 0
            },
            "text/plain": [
              "Validating: 0it [00:00, ?it/s]"
            ]
          },
          "metadata": {
            "tags": []
          }
        },
        {
          "output_type": "display_data",
          "data": {
            "application/vnd.jupyter.widget-view+json": {
              "model_id": "",
              "version_major": 2,
              "version_minor": 0
            },
            "text/plain": [
              "Validating: 0it [00:00, ?it/s]"
            ]
          },
          "metadata": {
            "tags": []
          }
        },
        {
          "output_type": "display_data",
          "data": {
            "application/vnd.jupyter.widget-view+json": {
              "model_id": "",
              "version_major": 2,
              "version_minor": 0
            },
            "text/plain": [
              "Validating: 0it [00:00, ?it/s]"
            ]
          },
          "metadata": {
            "tags": []
          }
        },
        {
          "output_type": "execute_result",
          "data": {
            "text/plain": [
              "1"
            ]
          },
          "metadata": {
            "tags": []
          },
          "execution_count": 15
        }
      ]
    },
    {
      "cell_type": "code",
      "metadata": {
        "ExecuteTime": {
          "end_time": "2021-03-24T09:04:10.982031Z",
          "start_time": "2021-03-24T09:04:10.710498Z"
        },
        "id": "operational-match",
        "outputId": "8835f72a-bdf3-4337-c03c-9830acd0c24e"
      },
      "source": [
        "import random\n",
        "\n",
        "attn_imgs, attn_labels = next(iter(attn_dm.val_dataloader()))\n",
        "preds = model.predict(attn_imgs)\n",
        "\n",
        "ix = random.randint(0, dm.batch_size)\n",
        "fig = plt.figure(figsize=(5,5))\n",
        "for i in range(4):\n",
        "    for j in range(4):\n",
        "        ax = plt.subplot(4, 4, i*4 + j + 1)\n",
        "        ax.imshow(attn_imgs[ix,i*4 + j].view(7, 7), cmap=\"gray\")\n",
        "        ax.axis('off')\n",
        "fig.suptitle(f'{attn_labels[ix]} / {preds[ix].item()}', color=\"green\" if attn_labels[ix] == preds[ix].item() else \"red\")\n",
        "plt.tight_layout()\n",
        "plt.show()"
      ],
      "execution_count": null,
      "outputs": [
        {
          "output_type": "display_data",
          "data": {
            "image/png": "[encoded data removed]",
            "text/plain": [
              "<Figure size 360x360 with 16 Axes>"
            ]
          },
          "metadata": {
            "tags": []
          }
        }
      ]
    }
  ]
}