{
  "nbformat": 4,
  "nbformat_minor": 0,
  "metadata": {
    "colab": {
      "name": "Multi-Head Self-Attention.ipynb",
      "provenance": [],
      "authorship_tag": "ABX9TyOiDH4BdCXr7Mo6KDILSneM",
      "include_colab_link": true
    },
    "kernelspec": {
      "name": "python3",
      "display_name": "Python 3"
    },
    "language_info": {
      "name": "python"
    }
  },
  "cells": [
    {
      "cell_type": "markdown",
      "metadata": {
        "id": "view-in-github",
        "colab_type": "text"
      },
      "source": [
        "<a href=\"https://colab.research.google.com/github/Zelechos/IA_Code/blob/master/Lab10/Multi_Head_Self_Attention.ipynb\" target=\"_parent\"><img src=\"https://colab.research.google.com/assets/colab-badge.svg\" alt=\"Open In Colab\"/></a>"
      ]
    },
    {
      "cell_type": "code",
      "metadata": {
        "ExecuteTime": {
          "end_time": "2021-03-24T09:06:58.258066Z",
          "start_time": "2021-03-24T09:06:56.689055Z"
        },
        "id": "veterinary-bahrain"
      },
      "source": [
        "import pytorch_lightning as pl\n",
        "import torch\n",
        "import matplotlib.pyplot as plt\n",
        "import torch.nn.functional as F\n",
        "from sklearn.datasets import fetch_openml\n",
        "import numpy as np\n",
        "from torch.utils.data import DataLoader"
      ],
      "execution_count": null,
      "outputs": []
    },
    {
      "cell_type": "code",
      "metadata": {
        "ExecuteTime": {
          "end_time": "2021-03-24T09:06:58.274068Z",
          "start_time": "2021-03-24T09:06:58.259066Z"
        },
        "code_folding": [],
        "id": "facial-learning"
      },
      "source": [
        "class Dataset(torch.utils.data.Dataset):\n",
        "  def __init__(self, X, y):\n",
        "    self.X = X \n",
        "    self.y = y \n",
        "\n",
        "  def __len__(self):\n",
        "    return len(self.X)\n",
        "\n",
        "  def __getitem__(self, ix):\n",
        "    return torch.tensor(self.X[ix]).float(), torch.tensor(self.y[ix]).long()\n",
        "\n",
        "class MNISTDataModule(pl.LightningDataModule):\n",
        "\n",
        "    def __init__(self, batch_size: int = 64, Dataset = Dataset):\n",
        "        super().__init__()\n",
        "        self.batch_size = batch_size\n",
        "        self.Dataset = Dataset\n",
        "\n",
        "    def setup(self, stage=None):\n",
        "        mnist = fetch_openml('mnist_784', version=1)\n",
        "        X, y = mnist[\"data\"], mnist[\"target\"]\n",
        "        X_train, X_test, y_train, y_test = X[:60000] / 255., X[60000:] / 255., y[:60000].astype(np.int), y[60000:].astype(np.int)\n",
        "        self.train_ds = self.Dataset(X_train, y_train)\n",
        "        self.val_ds = self.Dataset(X_test, y_test)\n",
        "\n",
        "    def train_dataloader(self):\n",
        "        return DataLoader(self.train_ds, batch_size=self.batch_size, shuffle=True)\n",
        "\n",
        "    def val_dataloader(self):\n",
        "        return DataLoader(self.val_ds, batch_size=self.batch_size)"
      ],
      "execution_count": null,
      "outputs": []
    },
    {
      "cell_type": "code",
      "metadata": {
        "ExecuteTime": {
          "end_time": "2021-03-24T09:09:04.721844Z",
          "start_time": "2021-03-24T09:09:04.707845Z"
        },
        "id": "incorporate-occurrence"
      },
      "source": [
        "class AttnDataset(torch.utils.data.Dataset):\n",
        "  def __init__(self, X, y, patch_size=(7, 7)):\n",
        "    self.X = X \n",
        "    self.y = y \n",
        "    self.patch_size = patch_size\n",
        "\n",
        "  def __len__(self):\n",
        "    return len(self.X)\n",
        "\n",
        "  def __getitem__(self, ix):\n",
        "    image = torch.tensor(self.X[ix]).float().view(28, 28) # 28 x 28\n",
        "    h, w = self.patch_size\n",
        "    patches = image.unfold(0, h, h).unfold(1, w, w) # 4 x 4 x 7 x 7\n",
        "    patches = patches.contiguous().view(-1, h*w) # 16 x 49\n",
        "    return patches, torch.tensor(self.y[ix]).long()"
      ],
      "execution_count": null,
      "outputs": []
    },
    {
      "cell_type": "code",
      "metadata": {
        "ExecuteTime": {
          "end_time": "2021-03-24T09:09:23.252770Z",
          "start_time": "2021-03-24T09:09:04.723845Z"
        },
        "id": "regular-opinion",
        "outputId": "556bf6f9-2fec-40f4-ba62-c6563d947b91"
      },
      "source": [
        "attn_dm = MNISTDataModule(Dataset = AttnDataset)\n",
        "attn_dm.setup()\n",
        "imgs, labels = next(iter(attn_dm.train_dataloader()))\n",
        "imgs.shape, labels.shape"
      ],
      "execution_count": null,
      "outputs": [
        {
          "output_type": "execute_result",
          "data": {
            "text/plain": [
              "(torch.Size([64, 16, 49]), torch.Size([64]))"
            ]
          },
          "metadata": {
            "tags": []
          },
          "execution_count": 11
        }
      ]
    },
    {
      "cell_type": "code",
      "metadata": {
        "ExecuteTime": {
          "end_time": "2021-03-24T09:09:23.551311Z",
          "start_time": "2021-03-24T09:09:23.254769Z"
        },
        "id": "solved-chamber",
        "outputId": "9f7a4e7d-0721-4c46-8b9d-f5b9796263d1"
      },
      "source": [
        "import matplotlib\n",
        "import matplotlib.pyplot as plt\n",
        "import matplotlib.gridspec as gridspec\n",
        "\n",
        "fig = plt.figure(figsize=(5,5))\n",
        "for i in range(4):\n",
        "    for j in range(4):\n",
        "        ax = plt.subplot(4, 4, i*4 + j + 1)\n",
        "        ax.imshow(imgs[6,i*4 + j].view(7, 7), cmap=\"gray\")\n",
        "        ax.axis('off')\n",
        "plt.tight_layout()\n",
        "plt.show()"
      ],
      "execution_count": null,
      "outputs": [
        {
          "output_type": "display_data",
          "data": {
            "image/png": "[encoded data removed]",
            "text/plain": [
              "<Figure size 360x360 with 16 Axes>"
            ]
          },
          "metadata": {
            "tags": []
          }
        }
      ]
    },
    {
      "cell_type": "code",
      "metadata": {
        "ExecuteTime": {
          "end_time": "2021-03-24T09:09:23.567320Z",
          "start_time": "2021-03-24T09:09:23.552312Z"
        },
        "code_folding": [],
        "id": "respected-showcase"
      },
      "source": [
        "# basado en: https://github.com/karpathy/minGPT/blob/master/mingpt/model.py\n",
        "import math\n",
        "\n",
        "class MultiHeadAttention(torch.nn.Module):\n",
        "\n",
        "    def __init__(self, n_embd, n_heads):\n",
        "        super().__init__()\n",
        "        self.n_heads = n_heads \n",
        "        \n",
        "        # key, query, value projections\n",
        "        self.key = torch.nn.Linear(n_embd, n_embd*n_heads)\n",
        "        self.query = torch.nn.Linear(n_embd, n_embd*n_heads)\n",
        "        self.value = torch.nn.Linear(n_embd, n_embd*n_heads)\n",
        "        \n",
        "        # output projection\n",
        "        self.proj = torch.nn.Linear(n_embd*n_heads, n_embd)\n",
        "\n",
        "    def forward(self, x):\n",
        "        B, L, F = x.size()\n",
        "        \n",
        "        # calculate query, key, values for all heads in batch and move head forward to be the batch dim\n",
        "        k = self.key(x).view(B, L, F, self.n_heads).transpose(1, 3) # (B, nh, L, F)\n",
        "        q = self.query(x).view(B, L, F, self.n_heads).transpose(1, 3) # (B, nh, L, F)\n",
        "        v = self.value(x).view(B, L, F, self.n_heads).transpose(1, 3) # (B, nh, L, F)\n",
        "        \n",
        "        # attention (B, nh, L, F) x (B, nh, F, L) -> (B, nh, L, L) \n",
        "        att = (q @ k.transpose(-2, -1)) * (1.0 / math.sqrt(k.size(-1)))\n",
        "        att = torch.nn.functional.softmax(att, dim=-1)\n",
        "        y = att @ v # (B, nh, L, L) x (B, nh, L, F) -> (B, nh, L, F)\n",
        "        y = y.transpose(1, 2).contiguous().view(B, L, F*self.n_heads) # re-assemble all head outputs side by side\n",
        "        \n",
        "        return self.proj(y)\n",
        "\n",
        "class Model(MLP):\n",
        "\n",
        "    def __init__(self, n_embd=7*7, seq_len=4*4, n_heads=4*4):\n",
        "        super().__init__()\n",
        "        self.mlp = None\n",
        "\n",
        "        self.attn = MultiHeadAttention(n_embd, n_heads)\n",
        "        self.actn = torch.nn.ReLU(inplace=True)\n",
        "        self.fc = torch.nn.Linear(n_embd*seq_len, 10)\n",
        "\n",
        "    def forward(self, x):\n",
        "        x = self.attn(x)\n",
        "        #print(x.shape)\n",
        "        y = self.fc(self.actn(x.view(x.size(0), -1)))\n",
        "        #print(y.shape)\n",
        "        return y"
      ],
      "execution_count": null,
      "outputs": []
    },
    {
      "cell_type": "code",
      "metadata": {
        "ExecuteTime": {
          "end_time": "2021-03-24T09:10:21.733131Z",
          "start_time": "2021-03-24T09:09:23.569320Z"
        },
        "id": "through-authorization",
        "colab": {
          "referenced_widgets": [
            "",
            "54a10818764643a0a745a1fa2f0c0e98"
          ]
        },
        "outputId": "32706476-8440-489f-ddbb-82b28e3872ed"
      },
      "source": [
        "model = Model()\n",
        "trainer = pl.Trainer(max_epochs=5, gpus=1, logger=None)\n",
        "trainer.fit(model, attn_dm)"
      ],
      "execution_count": null,
      "outputs": [
        {
          "output_type": "stream",
          "text": [
            "GPU available: True, used: True\n",
            "TPU available: None, using: 0 TPU cores\n",
            "\n",
            "  | Name | Type               | Params\n",
            "--------------------------------------------\n",
            "0 | attn | MultiHeadAttention | 156 K \n",
            "1 | actn | ReLU               | 0     \n",
            "2 | fc   | Linear             | 7.9 K \n",
            "--------------------------------------------\n",
            "163 K     Trainable params\n",
            "0         Non-trainable params\n",
            "163 K     Total params\n",
            "0.656     Total estimated model params size (MB)\n"
          ],
          "name": "stderr"
        },
        {
          "output_type": "display_data",
          "data": {
            "application/vnd.jupyter.widget-view+json": {
              "model_id": "",
              "version_major": 2,
              "version_minor": 0
            },
            "text/plain": [
              "Validation sanity check: 0it [00:00, ?it/s]"
            ]
          },
          "metadata": {
            "tags": []
          }
        },
        {
          "output_type": "display_data",
          "data": {
            "application/vnd.jupyter.widget-view+json": {
              "model_id": "54a10818764643a0a745a1fa2f0c0e98",
              "version_major": 2,
              "version_minor": 0
            },
            "text/plain": [
              "Training: 0it [00:00, ?it/s]"
            ]
          },
          "metadata": {
            "tags": []
          }
        },
        {
          "output_type": "display_data",
          "data": {
            "application/vnd.jupyter.widget-view+json": {
              "model_id": "",
              "version_major": 2,
              "version_minor": 0
            },
            "text/plain": [
              "Validating: 0it [00:00, ?it/s]"
            ]
          },
          "metadata": {
            "tags": []
          }
        },
        {
          "output_type": "display_data",
          "data": {
            "application/vnd.jupyter.widget-view+json": {
              "model_id": "",
              "version_major": 2,
              "version_minor": 0
            },
            "text/plain": [
              "Validating: 0it [00:00, ?it/s]"
            ]
          },
          "metadata": {
            "tags": []
          }
        },
        {
          "output_type": "display_data",
          "data": {
            "application/vnd.jupyter.widget-view+json": {
              "model_id": "",
              "version_major": 2,
              "version_minor": 0
            },
            "text/plain": [
              "Validating: 0it [00:00, ?it/s]"
            ]
          },
          "metadata": {
            "tags": []
          }
        },
        {
          "output_type": "display_data",
          "data": {
            "application/vnd.jupyter.widget-view+json": {
              "model_id": "",
              "version_major": 2,
              "version_minor": 0
            },
            "text/plain": [
              "Validating: 0it [00:00, ?it/s]"
            ]
          },
          "metadata": {
            "tags": []
          }
        },
        {
          "output_type": "display_data",
          "data": {
            "application/vnd.jupyter.widget-view+json": {
              "model_id": "",
              "version_major": 2,
              "version_minor": 0
            },
            "text/plain": [
              "Validating: 0it [00:00, ?it/s]"
            ]
          },
          "metadata": {
            "tags": []
          }
        },
        {
          "output_type": "execute_result",
          "data": {
            "text/plain": [
              "1"
            ]
          },
          "metadata": {
            "tags": []
          },
          "execution_count": 14
        }
      ]
    },
    {
      "cell_type": "code",
      "metadata": {
        "ExecuteTime": {
          "end_time": "2021-03-24T09:20:55.670017Z",
          "start_time": "2021-03-24T09:20:55.291006Z"
        },
        "id": "operational-match",
        "outputId": "1a40ef4b-5260-4a40-b3c0-d565999003c7"
      },
      "source": [
        "import random\n",
        "\n",
        "attn_imgs, attn_labels = next(iter(attn_dm.val_dataloader()))\n",
        "preds = model.predict(attn_imgs)\n",
        "\n",
        "ix = random.randint(0,attn_dm.batch_size)\n",
        "fig = plt.figure(figsize=(5,5))\n",
        "for i in range(4):\n",
        "    for j in range(4):\n",
        "        ax = plt.subplot(4, 4, i*4 + j + 1)\n",
        "        ax.imshow(attn_imgs[ix,i*4 + j].view(7, 7), cmap=\"gray\")\n",
        "        ax.axis('off')\n",
        "fig.suptitle(f'{attn_labels[ix]} / {preds[ix].item()}', color=\"green\" if attn_labels[ix] == preds[ix].item() else \"red\")\n",
        "plt.tight_layout()\n",
        "plt.show()"
      ],
      "execution_count": null,
      "outputs": [
        {
          "output_type": "display_data",
          "data": {
            "image/png": "[encoded data removed]",
            "text/plain": [
              "<Figure size 360x360 with 16 Axes>"
            ]
          },
          "metadata": {
            "tags": []
          }
        }
      ]
    }
  ]
}