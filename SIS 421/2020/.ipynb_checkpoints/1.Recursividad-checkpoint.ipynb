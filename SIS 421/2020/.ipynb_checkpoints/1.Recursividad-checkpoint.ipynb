{
 "cells": [
  {
   "cell_type": "markdown",
   "metadata": {},
   "source": [
    "# Recursividad\n",
    "### By Alex Tumiri Huanca"
   ]
  },
  {
   "cell_type": "markdown",
   "metadata": {},
   "source": [
    "## ¿Que es la Recursividad?\n",
    "#### La recursividad es una técnica muy empleada en la programación informática y consiste en que una función se llame a sí misma. \n",
    "\n",
    "## ¡Y NADA MAS QUE ESO AHORA A LA PRACTICA!"
   ]
  },
  {
   "cell_type": "markdown",
   "metadata": {},
   "source": [
    "### Ejercicio 1\n",
    "\n",
    "#### Hallar el Factorial de un Numero introducido por teclado (Aplicando Recursividad)"
   ]
  },
  {
   "cell_type": "code",
   "execution_count": 4,
   "metadata": {},
   "outputs": [
    {
     "name": "stdout",
     "output_type": "stream",
     "text": [
      "Digite un Numero para hallar su Factorial : -7\n",
      "El Factorial de -7 es :  -5040\n",
      "Fin del Programa . . .\n"
     ]
    }
   ],
   "source": [
    "Numero = int(input(\"Digite un Numero para hallar su Factorial : \"))\n",
    "NumeroVerificador = Numero\n",
    "\n",
    "#Nuestra Funcion Recursiva solo funciona para numeros positivos por eso primero verificaremos el numero \n",
    "def Verificador(Numero):\n",
    "    if Numero < 0 :\n",
    "        NumeroFinal = Numero*-1\n",
    "        return NumeroFinal\n",
    "    else:\n",
    "        return Numero\n",
    "\n",
    "NumeroFactorial = Verificador(Numero)\n",
    "\n",
    "#Aplicando Recursividad\n",
    "def Factorial(NumeroFactorial):\n",
    "    \n",
    "    if NumeroFactorial == 0 or NumeroFactorial == 1:\n",
    "        return 1\n",
    "    else:\n",
    "        return NumeroFactorial * Factorial(NumeroFactorial-1)  #Aqui la Funcion se LLama asi misma\n",
    "\n",
    "\n",
    "def VerificadorFinal(NumeroVerificador):\n",
    "    \n",
    "    if NumeroVerificador < 0:\n",
    "        FacetorialNumero = Factorial(NumeroFactorial)*-1\n",
    "        return FacetorialNumero\n",
    "    else : \n",
    "        FacetorialNumero = Factorial(NumeroFactorial)\n",
    "        return FacetorialNumero\n",
    "\n",
    "Respuesta = VerificadorFinal(Numero)\n",
    "    \n",
    "print(\"El Factorial de\",NumeroVerificador,\"es : \",Respuesta)\n",
    "print(\"Fin del Programa . . .\")"
   ]
  },
  {
   "cell_type": "markdown",
   "metadata": {},
   "source": [
    "### Ejercicio 2\n",
    "\n",
    "#### Mostrar la siguiente sucesion de Numeros  $S = 3+6+4+7+5+8 .... $ para n Numeros y mostrar el Resultado (Aplicando Recursividad)"
   ]
  },
  {
   "cell_type": "code",
   "execution_count": 15,
   "metadata": {},
   "outputs": [
    {
     "name": "stdout",
     "output_type": "stream",
     "text": [
      "Digita la Cantidad de Numeros que sumara : 11\n",
      "3 + 6 + 4 + 7 + 5 + 8 + 6 + 9 + 7 + 10 + 8 = 73\n",
      "Fin del Programa . . .\n"
     ]
    }
   ],
   "source": [
    "Numero = int(input(\"Digita la Cantidad de Numeros que sumara : \"))\n",
    "\n",
    "NumeroInicial = 3             \n",
    "Respuesta = 3\n",
    "Switch = 0\n",
    "Suma = 0\n",
    "\n",
    "def Mostrador(Numero, NumeroInicial , Respuesta , Switch , Suma):#respetar el orden al llamar los argumento en la recusividad\n",
    "    if Numero > 0:\n",
    "        \n",
    "        if Switch == 0:\n",
    "            \n",
    "            if Numero != 1:\n",
    "                print (Respuesta, end=\" + \")\n",
    "            else : \n",
    "                print(Respuesta, end =\" = \")\n",
    "                \n",
    "            Suma +=Respuesta\n",
    "            Respuesta+=NumeroInicial\n",
    "            NumeroInicial-=1\n",
    "            Switch+=1\n",
    "            \n",
    "            return Mostrador(Numero-1 , NumeroInicial , Respuesta , Switch , Suma)#Aplicando Recusividad\n",
    "        \n",
    "        else:\n",
    "            \n",
    "            if Numero != 1:\n",
    "                print (Respuesta, end=\" + \")\n",
    "            else:\n",
    "                print(Respuesta,end=\" = \")\n",
    "                \n",
    "            Suma +=Respuesta\n",
    "            Respuesta-=NumeroInicial\n",
    "            NumeroInicial+=1\n",
    "            Switch-=1\n",
    "            \n",
    "            return Mostrador(Numero-1 , NumeroInicial , Respuesta , Switch ,Suma)#Aplicando Recursividad\n",
    "        \n",
    "    return Suma\n",
    "\n",
    "print(Mostrador(Numero, NumeroInicial ,Respuesta ,Switch,Suma))\n",
    "print(\"Fin del Programa . . .\")                      "
   ]
  },
  {
   "cell_type": "markdown",
   "metadata": {},
   "source": [
    "### Ejercicio 3\n",
    "#### Introducir un Numero y que muestre el que Numero Corresponde de la Sucesion Fibonacii (Aplicando Recursividad)"
   ]
  },
  {
   "cell_type": "code",
   "execution_count": 16,
   "metadata": {},
   "outputs": [
    {
     "name": "stdout",
     "output_type": "stream",
     "text": [
      "Digite que numero desea ver de la Famosa Sucesion Fibonacci : 36\n",
      "El Numero de la Sucesion Fibonacci que Corresponde a su Numero es :  14930352\n",
      "Fin del Programa . . .\n"
     ]
    }
   ],
   "source": [
    "Numero = int(input(\"Digite que numero desea ver de la Famosa Sucesion Fibonacci : \"))\n",
    "\n",
    "def Fibonacci(Numero):\n",
    "    \n",
    "    if Numero == 0:\n",
    "        return 0\n",
    "    elif Numero == 1 or Numero == 2:\n",
    "        return 1\n",
    "    else:\n",
    "        return Fibonacci(Numero-1)+Fibonacci(Numero-2)# Aplicando Recursividad\n",
    "\n",
    "Respuesta = Fibonacci(Numero)\n",
    "\n",
    "print(\"El Numero de la Sucesion Fibonacci que Corresponde a su Numero es : \",Respuesta)\n",
    "print(\"Fin del Programa . . .\")"
   ]
  },
  {
   "cell_type": "markdown",
   "metadata": {},
   "source": [
    "### Ejercicio 4\n",
    "#### Mostrar la siguiente sucesion y mostrar su Resultado(Aplicando Recursividad)\n",
    "$ N^{N}+9^{1}+8^{2}+7^{3}+6^{4}+5^{5}+4^{6}+3^{7}+2^{8}+1^{9}+N^{N}=11377$"
   ]
  },
  {
   "cell_type": "code",
   "execution_count": 17,
   "metadata": {},
   "outputs": [
    {
     "name": "stdout",
     "output_type": "stream",
     "text": [
      "Digite el numero de Elementos que tendra la sucesion : 9\n",
      "[ 9 ^ 1 ] + [ 8 ^ 2 ] + [ 7 ^ 3 ] + [ 6 ^ 4 ] + [ 5 ^ 5 ] + [ 4 ^ 6 ] + [ 3 ^ 7 ] + [ 2 ^ 8 ] + [ 1 ^ 9 ] = 11377\n",
      "Fin del Programa . . .\n"
     ]
    }
   ],
   "source": [
    "Numero = int(input(\"Digite el numero de Elementos que tendra la sucesion : \"))\n",
    "\n",
    "Contador = 1\n",
    "Suma = 0\n",
    "\n",
    "def Sucesion(Numero,Contador,Suma):\n",
    "    \n",
    "    if Numero > 0:\n",
    "        Suma += (Numero**Contador)\n",
    "        if Numero != 1:\n",
    "            print(\"[\",Numero,\"^\",Contador,\"]\",end=\" + \")\n",
    "        else:\n",
    "            print(\"[\",Numero,\"^\",Contador,\"]\",end=\" = \")\n",
    "\n",
    "        return Sucesion(Numero-1,Contador+1,Suma)# Aplicando Recursividad\n",
    "    else:\n",
    "        return Suma\n",
    "\n",
    "Respuesta = Sucesion(Numero,Contador,Suma)\n",
    "\n",
    "print(Respuesta)    \n",
    "print(\"Fin del Programa . . .\")"
   ]
  },
  {
   "cell_type": "markdown",
   "metadata": {},
   "source": [
    "### Ejercicio 5\n",
    "#### Representar la siguiente sucesion y mostrar su Resultado(Aplicando Recursividad)\n",
    "$ 4^{0}+9^{1}+6^{1}+11^{2}+8^{3}+13^{5}+10^{8}+N^{N}= 100371942$"
   ]
  },
  {
   "cell_type": "code",
   "execution_count": 18,
   "metadata": {},
   "outputs": [
    {
     "name": "stdout",
     "output_type": "stream",
     "text": [
      "Digite el numero de elementos que tendra la Sucesion : 7\n",
      "[ 4 ^ 0 ] + [ 9 ^ 1 ] + [ 6 ^ 1 ] + [ 11 ^ 2 ] + [ 8 ^ 3 ] + [ 13 ^ 5 ] + [ 10 ^ 8 ] = 100371942\n",
      "Fin del Programa . . .\n"
     ]
    }
   ],
   "source": [
    "N = int(input(\"Digite el numero de elementos que tendra la Sucesion : \"))\n",
    "fibo =0\n",
    "fibo1=0\n",
    "num = 4\n",
    "suma = 0\n",
    "switch=0\n",
    "posi=0\n",
    "lista =[]\n",
    "def Fibonacci(lista,N,posi,fibo,fibo1):\n",
    "    while(N>0):\n",
    "        if fibo == 0:\n",
    "            lista.append(fibo)\n",
    "            fibo+=1  \n",
    "            N-=1\n",
    "        else:\n",
    "            lista.append(fibo)# para 5 aqui se hacer 4\n",
    "            posi=fibo         # 1<-1  , 1<-1  , 2<-2  , 3<-3            \n",
    "            fibo = fibo+fibo1 # 1=1+0 , 2=1+1 , 3=2+1 , 5=3+2\n",
    "            fibo1=posi        # 1<-1  , 1<-1  , 2<-2  , 3<-3\n",
    "            N-=1\n",
    "\n",
    "    return lista \n",
    "\n",
    "\n",
    "Lista = Fibonacci(lista,N,posi,fibo,fibo1)       \n",
    "pos=0\n",
    "def Sucesion(pos,Lista,num,suma,N,switch):\n",
    "    if N > 0:\n",
    "        if switch == 0:\n",
    "            \n",
    "            suma+=(num**Lista[pos])\n",
    "            if N!=1:\n",
    "                print(\"[\",num,\"^\",Lista[pos],\"]\",end=\" + \")\n",
    "            else:\n",
    "                print(\"[\",num,\"^\",Lista[pos],\"]\",end=\" = \")\n",
    "\n",
    "            return Sucesion(pos+1,Lista,num+5,suma,N-1,switch+1)# Aplicando Recursividad\n",
    "        \n",
    "        else:\n",
    "            suma+=(num**Lista[pos])\n",
    "            if N!=1:\n",
    "                print(\"[\",num,\"^\",Lista[pos],\"]\",end=\" + \")\n",
    "            else:\n",
    "                print(\"[\",num,\"^\",Lista[pos],\"]\",end=\" = \")\n",
    "                \n",
    "            return Sucesion(pos+1,Lista,num-3,suma,N-1,switch-1)# Aplicando Recursividad\n",
    "        \n",
    "    return suma\n",
    "\n",
    "print(Sucesion(pos,Lista,num,suma,N,switch))\n",
    "print(\"Fin del Programa . . .\")"
   ]
  },
  {
   "cell_type": "markdown",
   "metadata": {},
   "source": [
    "### Ejercicio 6\n",
    "#### Realizar la siguiente sucesion para N numeros introducidos y mostrar el Resultado(Aplicando Recursividad) \n",
    "$(3/1)^{1}+(5/1)^{3}+(4/2)^{5}+(6/3)^{7}+(5/5)^{9}+(7/8)^{11}+(6/13)^{13}= 289.2302343$"
   ]
  },
  {
   "cell_type": "code",
   "execution_count": 19,
   "metadata": {},
   "outputs": [
    {
     "name": "stdout",
     "output_type": "stream",
     "text": [
      "Digite un La Cantidad de Elementos que tendra la Sucesion : 7\n",
      "( 3 / 1 )^ 1 + ( 5 / 1 )^ 3 + ( 4 / 2 )^ 5 + ( 6 / 3 )^ 7 + ( 5 / 5 )^ 9 + ( 7 / 8 )^ 11 + ( 6 / 13 )^ 13 = 289.23023425151865\n",
      "Fin del Programa . . .\n"
     ]
    }
   ],
   "source": [
    "Numero  = int(input(\"Digite un La Cantidad de Elementos que tendra la Sucesion : \"))\n",
    "\n",
    "#Variables Divisor\n",
    "Fibonaci = 1\n",
    "Auxiliar = 0\n",
    "Antecesor = 0\n",
    "Lista = []\n",
    "\n",
    "#Variables Dividendo\n",
    "NumeroDividendo = 3\n",
    "Switch = 0\n",
    "Lista1 = []\n",
    "\n",
    "#Variables Exponente\n",
    "Exponent = 1 \n",
    "Lista2 = []\n",
    "\n",
    "#Varivles Resultado\n",
    "Contador = 0\n",
    "Respuesta = 0\n",
    "\n",
    "#Primero Generamos la Sucesion Fibonacci para el Divisor\n",
    "def Divisor(Fibonaci,Auxiliar,Antecesor,Lista,Numero):\n",
    "    \n",
    "    while (Numero > 0):\n",
    "\n",
    "        Lista.append(Fibonaci)\n",
    "        \n",
    "        Auxiliar = Fibonaci              \n",
    "        Fibonaci = Antecesor + Auxiliar  \n",
    "        Antecesor = Auxiliar             \n",
    "        \n",
    "        Numero -= 1\n",
    "    \n",
    "    return Lista\n",
    "\n",
    "\n",
    "#Segundo Generamos la Sucesion de Dividendos Aplicando Recursividad\n",
    "def Dividendo(Numero,Switch,NumeroDividendo,Lista1):\n",
    "    if Numero > 0 :\n",
    "        if Switch == 0:\n",
    "            Lista1.append(NumeroDividendo)\n",
    "            return Dividendo(Numero-1,Switch+1,NumeroDividendo+2,Lista1)# Aplicando Recursividad\n",
    "        elif Switch == 1:\n",
    "            Lista1.append(NumeroDividendo)\n",
    "            return Dividendo(Numero-1,Switch-1,NumeroDividendo-1,Lista1)# Aplicando Recursividad\n",
    "        \n",
    "    return Lista1\n",
    "\n",
    "#Tercero Genereamos La Sucesion de Exponenete Aplicando Recursividad\n",
    "def Exponente(Exponent,Lista2,Numero):\n",
    "    if Numero > 0:\n",
    "        Lista2.append(Exponent)\n",
    "        return Exponente(Exponent+2,Lista2,Numero-1)# Aplicando Recursividad\n",
    "    \n",
    "    return Lista2\n",
    "\n",
    "#Aqui Tranformamos Nuestras Funciones en Variables para Introducirlos en otra Funcion\n",
    "Divisores = Divisor(Fibonaci,Auxiliar,Antecesor,Lista,Numero)\n",
    "Dividendos = Dividendo(Numero,Switch,NumeroDividendo,Lista1)\n",
    "Exponentes = Exponente(Exponent,Lista2,Numero)\n",
    "\n",
    "\n",
    "#Aqui Definimos el Resultado Y lo que mostraremos en Pantalla Aplicancdo Recusividad\n",
    "def Resultado(Divisores,Dividendos,Exponentes,Numero,Contador,Respuesta):\n",
    "    if Numero > 0 :\n",
    "        Respuesta += (( Dividendos[Contador]/Divisores[Contador] )**Exponentes[Contador])\n",
    "        \n",
    "        if Numero != 1:\n",
    "            print(\"(\",Dividendos[Contador],\"/\",Divisores[Contador],\")^\",Exponentes[Contador],end=\" + \")\n",
    "        else:\n",
    "            print(\"(\",Dividendos[Contador],\"/\",Divisores[Contador],\")^\",Exponentes[Contador],end=\" = \")\n",
    "        \n",
    "        return Resultado(Divisores,Dividendos,Exponentes,Numero-1,Contador+1,Respuesta)# Aplicando Recursividad\n",
    "     \n",
    "    return Respuesta   \n",
    "\n",
    "\n",
    "print(Resultado(Divisores,Dividendos,Exponentes,Numero,Contador,Respuesta))\n",
    "print(\"Fin del Programa . . .\")"
   ]
  },
  {
   "cell_type": "markdown",
   "metadata": {},
   "source": [
    "### Ejercicio 7\n",
    "#### Para calcular el máximo común divisor de dos numeros enteros puedo aplicar el algoritmo de euclides, que consiste en ir restando el más pequeños del más grande hasta que queden dos numeros iguales , que seran el maximo común divisor del los dos números.\n",
    "#### Por Ejemplo:\n",
    "#### si comenzamos con el Par de números de : 412, 184.\n",
    "<table>\n",
    "    <tr>\n",
    "       <td>412</td>\n",
    "       <td>228</td>\n",
    "       <td>44</td>\n",
    "       <td>44</td>\n",
    "       <td>44</td>\n",
    "       <td>44</td>\n",
    "       <td>44</td>\n",
    "       <td>36</td>\n",
    "       <td>28</td>\n",
    "       <td>20</td>\n",
    "       <td>12</td>\n",
    "       <td>8</td>\n",
    "       <td>4</td>\n",
    "    </tr>\n",
    "    <tr>\n",
    "       <td>184</td>\n",
    "       <td>184</td>\n",
    "       <td>184</td>\n",
    "       <td>140</td>\n",
    "       <td>96</td>\n",
    "       <td>52</td>\n",
    "       <td>8</td>\n",
    "       <td>8</td>\n",
    "       <td>8</td>\n",
    "       <td>8</td>\n",
    "       <td>8</td>\n",
    "       <td>4</td>\n",
    "       <td>4</td>\n",
    "    </tr>\n",
    "</table>\n",
    "\n",
    "#### Es decir m.c.d de 412  ,  184   es   4"
   ]
  },
  {
   "cell_type": "code",
   "execution_count": 9,
   "metadata": {},
   "outputs": [
    {
     "name": "stdout",
     "output_type": "stream",
     "text": [
      "Digite el primer numero : 412\n",
      "Digite el segundo numero : 184\n",
      "El m.c.d(Maximo Comun Divisor) de  412  y  184  es :  4\n",
      "Fin del Programa . . .\n"
     ]
    }
   ],
   "source": [
    "Numero1 = int(input(\"Digite el primer numero : \"));\n",
    "Numero2 = int(input(\"Digite el segundo numero : \"));\n",
    "\n",
    "#Aqui solo guardamos datos para mostrarlos posteriormente\n",
    "n1 = Numero1\n",
    "n2 = Numero2\n",
    "\n",
    "def EuclidesAlgoritmo(Numero1,Numero2,n1,n2):\n",
    "    if Numero1 > Numero2 : \n",
    "        Numero1 -= Numero2\n",
    "    elif Numero2 > Numero1:\n",
    "        Numero2 -= Numero1\n",
    "    elif Numero2 == Numero1:\n",
    "        print(\"El m.c.d(Maximo Comun Divisor) de \",n1,\" y \",n2,\" es : \",Numero1)\n",
    "        return \"Fin del Programa . . .\";\n",
    "    return EuclidesAlgoritmo(Numero1,Numero2,n1,n2);#Numero1 es la respuesta por que si se restaron, entonces ambos seran el m.c.d\n",
    "\n",
    "print(EuclidesAlgoritmo(Numero1,Numero2,n1,n2));\n"
   ]
  },
  {
   "cell_type": "markdown",
   "metadata": {},
   "source": [
    "### Ejercicio 8\n",
    "#### Escriba una función recursiva para invertir una lista."
   ]
  },
  {
   "cell_type": "code",
   "execution_count": 35,
   "metadata": {},
   "outputs": [
    {
     "name": "stdout",
     "output_type": "stream",
     "text": [
      "La Lista Actual es : \n",
      " [3, 6, 9, 4, 12, 16, 34, 4, 21, 100, 19]\n",
      "La Lista Invertida es : \n",
      " [19, 100, 21, 4, 34, 16, 12, 4, 9, 6, 3]\n"
     ]
    }
   ],
   "source": [
    "Lista = [3,6,9,4,12,16,34,4,21,100,19] #Lista Invertida es  = [19,16,12,9,6,3]\n",
    "print('La Lista Actual es : \\n',Lista)\n",
    "\n",
    "# Variables Que Se Introduciran en la Funcion\n",
    "Longitud = len(Lista)\n",
    "Ultimo = Longitud-1\n",
    "Primero = 0\n",
    "Aux = 0 \n",
    "\n",
    "def Invertir(Lista,Primero,Ultimo,Aux):\n",
    "    if Primero == Ultimo:\n",
    "        return print('La Lista Invertida es : \\n',Lista) \n",
    "    elif Primero < Ultimo:\n",
    "        Aux = Lista[Primero]\n",
    "        Lista[Primero] = Lista[Ultimo]\n",
    "        Lista[Ultimo] = Aux\n",
    "        return Invertir(Lista,Primero+1,Ultimo-1,Aux)#Aplicando Recursividad\n",
    "        \n",
    "\n",
    "Invertir(Lista,Primero,Ultimo,Aux)"
   ]
  }
 ],
 "metadata": {
  "kernelspec": {
   "display_name": "Python 3",
   "language": "python",
   "name": "python3"
  },
  "language_info": {
   "codemirror_mode": {
    "name": "ipython",
    "version": 3
   },
   "file_extension": ".py",
   "mimetype": "text/x-python",
   "name": "python",
   "nbconvert_exporter": "python",
   "pygments_lexer": "ipython3",
   "version": "3.7.6"
  }
 },
 "nbformat": 4,
 "nbformat_minor": 2
}
