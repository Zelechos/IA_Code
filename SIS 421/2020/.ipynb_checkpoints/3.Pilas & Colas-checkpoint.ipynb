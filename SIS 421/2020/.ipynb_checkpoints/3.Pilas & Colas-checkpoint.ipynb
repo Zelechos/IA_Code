{
 "cells": [
  {
   "cell_type": "markdown",
   "metadata": {},
   "source": [
    "# Pilas & Colas"
   ]
  },
  {
   "cell_type": "markdown",
   "metadata": {},
   "source": [
    "# Pilas"
   ]
  },
  {
   "cell_type": "code",
   "execution_count": 1,
   "metadata": {},
   "outputs": [],
   "source": [
    "class Pila():\n",
    "    \n",
    "    def __init__(self,Size):\n",
    "        self.Lista = []\n",
    "        self.Tope = 0\n",
    "        self.Size = Size\n",
    "        \n",
    "    def empty(self):\n",
    "        if self.Tope == 0:\n",
    "            print('Pila vacia')\n",
    "            return True\n",
    "        else:\n",
    "            print('Pila tiene elementos')\n",
    "            return False\n",
    "        \n",
    "    def push(self,dato): \n",
    "        if self.Tope < self.Size:\n",
    "            self.Lista += [dato] \n",
    "            self.Tope += 1\n",
    "            print('Se Agrego el Elemento ',dato,' a la Pila')\n",
    "        else:\n",
    "            self.Size += 5            \n",
    "            self.Lista += [dato]\n",
    "            self.Tope += 1\n",
    "            \n",
    "            print('La Pila esta llena.')\n",
    "    \n",
    "    def pop(self):\n",
    "        if self.empty() == True:\n",
    "            print('No hay Elementos en la Pila')\n",
    "        else:\n",
    "            self.Tope -= 1\n",
    "            self.Lista = [self.Lista[x] for x in range(self.Tope)]\n",
    "            print('Se Elimino un Elemento')\n",
    "            \n",
    "    def showMe(self):\n",
    "        if self.Tope == 0:\n",
    "            print('Pila Vacia')\n",
    "        else:\n",
    "            print('Pila Actual:')\n",
    "\n",
    "        for index in range(self.Tope):\n",
    "            print('[',index,'] => ',self.Lista[index])\n",
    "\n",
    "    def size(self):\n",
    "        return print('La Cantidad de Elementos Actual de la Pila es: ',self.Tope)\n",
    "    \n",
    "    def top(self):\n",
    "        if self.Tope == 0:\n",
    "            return print('La Pila Esta Vacia')\n",
    "        return print('El Ultimo Elemento de la Pila es: ',self.Lista[-1])\n",
    "    "
   ]
  },
  {
   "cell_type": "code",
   "execution_count": 3,
   "metadata": {},
   "outputs": [
    {
     "name": "stdout",
     "output_type": "stream",
     "text": [
      "********MENU**********\n",
      " 0.Mostrar Pila\n",
      " 1.Agregar Dato\n",
      " 2.Borrar Dato\n",
      " 3.Vacio \n",
      " 4.Cantidad de Datos\n",
      " 5.Primer Dato \n",
      " 6.Salir \n",
      " Digite una Opcion del Menu :6\n",
      "---------------------------------------------------------------------------------------------\n",
      "Fin del Programa. . .\n",
      "---------------------------------------------------------------------------------------------\n"
     ]
    }
   ],
   "source": [
    "pila = Pila(1)\n",
    "\n",
    "while True:   \n",
    "    op = int(input(\"********MENU**********\\n 0.Mostrar Pila\\n 1.Agregar Dato\\n 2.Borrar Dato\\n 3.Vacio \\n 4.Cantidad de Datos\\n 5.Primer Dato \\n 6.Salir \\n Digite una Opcion del Menu :\"))\n",
    "    if op is 0:\n",
    "        print('---------------------------------------------------------------------------------------------')\n",
    "        pila.showMe()\n",
    "        print('---------------------------------------------------------------------------------------------')\n",
    "    elif op is 1:    \n",
    "        print('---------------------------------------------------------------------------------------------')\n",
    "        pila.push(int(input('Digite dato Que va Agregar:')))\n",
    "        print('---------------------------------------------------------------------------------------------')\n",
    "    elif op is 2:    \n",
    "        print('---------------------------------------------------------------------------------------------')\n",
    "        pila.pop()\n",
    "        print('---------------------------------------------------------------------------------------------')\n",
    "    elif op is 3:\n",
    "        print('---------------------------------------------------------------------------------------------')\n",
    "        pila.empty()\n",
    "        print('---------------------------------------------------------------------------------------------')\n",
    "    elif op is 4:\n",
    "        print('---------------------------------------------------------------------------------------------')\n",
    "        pila.size()\n",
    "        print('---------------------------------------------------------------------------------------------')\n",
    "    elif op is 5:\n",
    "        print('---------------------------------------------------------------------------------------------')\n",
    "        pila.top()\n",
    "        print('---------------------------------------------------------------------------------------------')\n",
    "    elif op is 6:\n",
    "        print('---------------------------------------------------------------------------------------------')\n",
    "        print('Fin del Programa. . .')\n",
    "        print('---------------------------------------------------------------------------------------------')\n",
    "        break\n",
    "    else:\n",
    "        print('La Opcion que selecciono no existe intente de nuevo')\n",
    "\n",
    "\n"
   ]
  },
  {
   "cell_type": "markdown",
   "metadata": {},
   "source": [
    "# Colas"
   ]
  },
  {
   "cell_type": "code",
   "execution_count": 10,
   "metadata": {},
   "outputs": [],
   "source": [
    "class Cola():\n",
    "    \n",
    "    def __init__(self):\n",
    "        self.cola = []\n",
    "        self.size = 0\n",
    "        \n",
    "    def empty(self):\n",
    "        return len(self.cola) ==  0 \n",
    "    \n",
    "    def push(self,Data):\n",
    "        self.cola += [Data]\n",
    "        self.size += 1\n",
    "    \n",
    "    def pop(self):\n",
    "        if self.empty() == True:\n",
    "            print('La Cola esta vacia.')\n",
    "        else:\n",
    "            self.cola = [self.cola[x]  for x in range(1,self.size)]\n",
    "            self.size -= 1\n",
    "            \n",
    "    def show(self):\n",
    "        n = self.size - 1\n",
    "        while n > -1:\n",
    "            print('[',n,'] => ',self.cola[n])\n",
    "            n -= 1\n",
    "    \n",
    "    def front(self):\n",
    "        if self.empty == True:\n",
    "            print('La Cola esta vacia.')\n",
    "        else:   \n",
    "            print('El primer dato la Cola es : ',self.cola[0])\n"
   ]
  },
  {
   "cell_type": "code",
   "execution_count": 18,
   "metadata": {},
   "outputs": [
    {
     "name": "stdout",
     "output_type": "stream",
     "text": [
      "[ 3 ] =>  12\n",
      "[ 2 ] =>  11\n",
      "[ 1 ] =>  10\n",
      "[ 0 ] =>  9\n",
      "-------------------\n",
      "[ 2 ] =>  12\n",
      "[ 1 ] =>  11\n",
      "[ 0 ] =>  10\n"
     ]
    }
   ],
   "source": [
    "cola = Cola()\n",
    "\n",
    "cola.push(9)\n",
    "cola.push(10)\n",
    "cola.push(11)\n",
    "cola.push(12)\n",
    "cola.show()\n",
    "cola.pop()  \n",
    "print('-------------------')\n",
    "cola.show()\n",
    "    "
   ]
  }
 ],
 "metadata": {
  "kernelspec": {
   "display_name": "Python 3",
   "language": "python",
   "name": "python3"
  },
  "language_info": {
   "codemirror_mode": {
    "name": "ipython",
    "version": 3
   },
   "file_extension": ".py",
   "mimetype": "text/x-python",
   "name": "python",
   "nbconvert_exporter": "python",
   "pygments_lexer": "ipython3",
   "version": "3.7.6"
  }
 },
 "nbformat": 4,
 "nbformat_minor": 4
}
