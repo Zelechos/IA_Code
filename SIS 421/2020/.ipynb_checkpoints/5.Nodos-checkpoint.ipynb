{
 "cells": [
  {
   "cell_type": "markdown",
   "metadata": {},
   "source": [
    "# Nodos\n",
    "#### Un nodo es una estructura sencilla que almacena información y además hace referencia a algún otro nodo. De manera ejemplificada es como una carta o un correo electrónico que además del documento en sí, posee la dirección del remitente y la del receptor.\n",
    "\n"
   ]
  },
  {
   "cell_type": "code",
   "execution_count": 26,
   "metadata": {},
   "outputs": [],
   "source": [
    "class Nodo():\n",
    "    \n",
    "    #Constructor\n",
    "    def __init__(self,Dato,Siguiente = None):\n",
    "        self.Dato = Dato\n",
    "        self.Siguiente = Siguiente \n",
    "    \n",
    "    #Esta Funcion es para Mostrar el dato Alamacenado en el Nodo sin necesidad de hacer : nodo.Dato\n",
    "    #def __str__(self):\n",
    "    #   return str(self.Dato)\n",
    "\n",
    "\n",
    "#Fuera de la Clase Nodo no forma parte del objeto Nodo\n",
    "\n",
    "def recorrer(nodo):\n",
    "    while nodo != None:\n",
    "        print(nodo.Dato)\n",
    "        nodo = nodo.Siguiente\n",
    "   "
   ]
  },
  {
   "cell_type": "code",
   "execution_count": 27,
   "metadata": {},
   "outputs": [
    {
     "name": "stdout",
     "output_type": "stream",
     "text": [
      "La Informacion del usuario que fue guardada en Nodos es : \n",
      "\n",
      "<__main__.Nodo object at 0x0000023250BDAFC8>\n",
      "<__main__.Nodo object at 0x0000023250BDAF48>\n",
      "<__main__.Nodo object at 0x0000023250BDACC8>\n",
      "<__main__.Nodo object at 0x0000023250BDAD88>\n",
      "\n",
      "======\n",
      " Mostrando los datos de los nodos con la funcion recorrer:\n",
      "\n",
      "zelechos@hotmail.com\n",
      "etherias\n",
      "24\n",
      "Programador\n"
     ]
    }
   ],
   "source": [
    "nodo3 = Nodo('Programador')\n",
    "nodo2 = Nodo(24,nodo3)\n",
    "nodo1 = Nodo('etherias',nodo2)\n",
    "nodo0 = Nodo('zelechos@hotmail.com',nodo1)\n",
    "\n",
    "print(\"La Informacion del usuario que fue guardada en Nodos es : \\n\")\n",
    "for X in Nodos:\n",
    "    print(X)\n",
    "    \n",
    "print('\\n======\\n Mostrando los datos de los nodos con la funcion recorrer:\\n')    \n",
    "recorrer(nodo0)\n",
    "\n"
   ]
  }
 ],
 "metadata": {
  "kernelspec": {
   "display_name": "Python 3",
   "language": "python",
   "name": "python3"
  },
  "language_info": {
   "codemirror_mode": {
    "name": "ipython",
    "version": 3
   },
   "file_extension": ".py",
   "mimetype": "text/x-python",
   "name": "python",
   "nbconvert_exporter": "python",
   "pygments_lexer": "ipython3",
   "version": "3.7.6"
  }
 },
 "nbformat": 4,
 "nbformat_minor": 4
}
