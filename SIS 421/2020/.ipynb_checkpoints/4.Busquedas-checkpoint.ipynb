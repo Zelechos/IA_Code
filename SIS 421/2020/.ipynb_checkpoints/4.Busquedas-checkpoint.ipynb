{
 "cells": [
  {
   "cell_type": "markdown",
   "metadata": {},
   "source": [
    "# Busquedas"
   ]
  },
  {
   "cell_type": "markdown",
   "metadata": {},
   "source": [
    "## Busqueda Lineal"
   ]
  },
  {
   "cell_type": "code",
   "execution_count": 10,
   "metadata": {},
   "outputs": [
    {
     "name": "stdout",
     "output_type": "stream",
     "text": [
      "Digite un Numero: 45\n",
      "El valor  45  que buscas no fue encontrado.\n",
      "La lista es:\n",
      "[ 0 ] =>  23\n",
      "[ 1 ] =>  34\n",
      "[ 2 ] =>  1\n",
      "[ 3 ] =>  2\n",
      "[ 4 ] =>  5\n",
      "[ 5 ] =>  3\n",
      "[ 6 ] =>  8\n",
      "[ 7 ] =>  0\n",
      "[ 8 ] =>  5\n",
      "[ 9 ] =>  6\n",
      "[ 10 ] =>  7\n",
      "[ 11 ] =>  8\n",
      "[ 12 ] =>  99\n"
     ]
    }
   ],
   "source": [
    "def BusquedaLineal(dato): \n",
    "    for index in range(len(lista)): \n",
    "        if lista[index] == dato: \n",
    "            return index \n",
    "    return None\n",
    "\n",
    "def Buscar(dato): \n",
    "    if BusquedaLineal(dato) == None: \n",
    "        return print('El valor ',dato,' que buscas no fue encontrado.') \n",
    "    else: \n",
    "        return print('El dato ',dato,' se encontro en el indice :',BusquedaLineal(dato))\n",
    "\n",
    "lista = [23,34,1,2,5,3,8,0,5,6,7,8,99]\n",
    "\n",
    "Buscar(int(input('Digite un Numero: ')))\n",
    "\n",
    "print('La lista es:') \n",
    "for i in range(len(lista)): \n",
    "    print('[',i,'] => ',lista[i])"
   ]
  },
  {
   "cell_type": "markdown",
   "metadata": {},
   "source": [
    "## Busqueda Binaria\n",
    "\n",
    "#### Algoritmo:\n",
    "1. Calcular el punto medio (derecha + izquierda)/2\n",
    "2. Comparar el punto medio con el dato a buscar\n",
    "3. Si es igual el dato al punto medio retornar indice\n",
    "4. Si el dato a buscar es mayor que el punto medio, izquierda es igual al valor del medio + 1\n",
    "5. Si el dato a buscar es menor que el punto medio, derecha es igual al valor del medio - 1\n",
    "6. Se seguira ejecutando siempre y cuando izquierda sea menor o igual a derecha"
   ]
  },
  {
   "cell_type": "code",
   "execution_count": 22,
   "metadata": {},
   "outputs": [
    {
     "name": "stdout",
     "output_type": "stream",
     "text": [
      "[0, 1, 2, 2, 3, 4, 4, 5, 5, 7, 9, 23, 25, 58, 564, 745, 999, 1234]\n",
      "Digite el Numero que desea Encontrar : 5\n",
      "El Dato 5  Se Encontro en el indice 8\n",
      "[ 0 ]=> 0\n",
      "[ 1 ]=> 1\n",
      "[ 2 ]=> 2\n",
      "[ 3 ]=> 2\n",
      "[ 4 ]=> 3\n",
      "[ 5 ]=> 4\n",
      "[ 6 ]=> 4\n",
      "[ 7 ]=> 5\n",
      "[ 8 ]=> 5\n",
      "[ 9 ]=> 7\n",
      "[ 10 ]=> 9\n",
      "[ 11 ]=> 23\n",
      "[ 12 ]=> 25\n",
      "[ 13 ]=> 58\n",
      "[ 14 ]=> 564\n",
      "[ 15 ]=> 745\n",
      "[ 16 ]=> 999\n",
      "[ 17 ]=> 1234\n"
     ]
    }
   ],
   "source": [
    "lista = [3,4,2,25,564,1234,58,1,9,0,7,5,4,2,5,745,23,999]\n",
    "\n",
    "#Algoritmo de Ordenamiento Rapido\n",
    "def Asendente(lista):\n",
    "    if not lista:\n",
    "        return []\n",
    "    else:\n",
    "        Pivot = lista[-1]\n",
    "        menor = [x for x in lista   if x < Pivot]\n",
    "        mayor = [y for y in lista[:-1]  if y >= Pivot]\n",
    "        return Asendente(menor)+[Pivot]+Asendente(mayor)\n",
    "\n",
    "print(Asendente(lista))\n",
    "\n",
    "lista1 = Asendente(lista)\n",
    "\n",
    "\n",
    "def BusquedaBinaria(dato):\n",
    "    izquierda = 0\n",
    "    derecha = len(lista1)-1\n",
    "    while izquierda <= derecha:\n",
    "        medio = (izquierda + derecha)//2\n",
    "        if dato == lista1[medio]:\n",
    "            return medio\n",
    "        elif dato < lista1[medio]:\n",
    "            derecha = medio-1\n",
    "        else:\n",
    "            izquierda = medio+1\n",
    "    return None\n",
    "    \n",
    "def Buscar(dato):\n",
    "    if BusquedaBinaria(dato) == None:\n",
    "        return print('El Dato no Se Encontro')\n",
    "    else:\n",
    "        return print('El Dato',dato,' Se Encontro en el indice',BusquedaBinaria(dato))\n",
    "        \n",
    "    \n",
    "Buscar(int(input('Digite el Numero que desea Encontrar : ')))    \n",
    "    \n",
    "for i in range(len(lista1)):\n",
    "    print('[',i,']=>',lista1[i])\n",
    "    "
   ]
  }
 ],
 "metadata": {
  "kernelspec": {
   "display_name": "Python 3",
   "language": "python",
   "name": "python3"
  },
  "language_info": {
   "codemirror_mode": {
    "name": "ipython",
    "version": 3
   },
   "file_extension": ".py",
   "mimetype": "text/x-python",
   "name": "python",
   "nbconvert_exporter": "python",
   "pygments_lexer": "ipython3",
   "version": "3.7.6"
  }
 },
 "nbformat": 4,
 "nbformat_minor": 4
}
