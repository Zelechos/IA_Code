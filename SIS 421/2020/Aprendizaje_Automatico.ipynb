{
  "nbformat": 4,
  "nbformat_minor": 0,
  "metadata": {
    "colab": {
      "name": "Aprendizaje Automatico.ipynb",
      "provenance": [],
      "authorship_tag": "ABX9TyOH4ehNanNEWK/Ki1H3xOAm",
      "include_colab_link": true
    },
    "kernelspec": {
      "name": "python3",
      "display_name": "Python 3"
    },
    "language_info": {
      "name": "python"
    }
  },
  "cells": [
    {
      "cell_type": "markdown",
      "metadata": {
        "id": "view-in-github",
        "colab_type": "text"
      },
      "source": [
        "<a href=\"https://colab.research.google.com/github/Zelechos/IA_Code/blob/master/Aprendizaje_Automatico.ipynb\" target=\"_parent\"><img src=\"https://colab.research.google.com/assets/colab-badge.svg\" alt=\"Open In Colab\"/></a>"
      ]
    },
    {
      "cell_type": "code",
      "metadata": {
        "colab": {
          "base_uri": "https://localhost:8080/"
        },
        "id": "SuX0m8lvn_wl",
        "outputId": "1994f536-ca59-4798-ee66-1c2d8f57709e"
      },
      "source": [
        "print(\"primer cuaderno en colab\")\n",
        "print(\"Creando Carpeta\")"
      ],
      "execution_count": null,
      "outputs": [
        {
          "output_type": "stream",
          "text": [
            "primer cuaderno en colab\n",
            "Creando Carpeta\n"
          ],
          "name": "stdout"
        }
      ]
    },
    {
      "cell_type": "markdown",
      "metadata": {
        "id": "_C2KGbcxrrxX"
      },
      "source": [
        "# Soy Pragmatic Coder"
      ]
    }
  ]
}